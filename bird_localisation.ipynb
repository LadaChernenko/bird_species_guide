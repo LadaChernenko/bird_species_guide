{
  "nbformat": 4,
  "nbformat_minor": 0,
  "metadata": {
    "colab": {
      "name": "bird_localisation.ipynb",
      "provenance": [],
      "collapsed_sections": [
        "Fj3mYcwCLGZ8",
        "F9VbhVFPfJD-"
      ],
      "authorship_tag": "ABX9TyN63oR3jxmYS8RHm1in/vl/"
    },
    "kernelspec": {
      "display_name": "Python 3",
      "name": "python3"
    },
    "language_info": {
      "name": "python"
    },
    "widgets": {
      "application/vnd.jupyter.widget-state+json": {
        "614cf54c25024948ba47b827f02a8097": {
          "model_module": "@jupyter-widgets/controls",
          "model_name": "HBoxModel",
          "state": {
            "_view_name": "HBoxView",
            "_dom_classes": [],
            "_model_name": "HBoxModel",
            "_view_module": "@jupyter-widgets/controls",
            "_model_module_version": "1.5.0",
            "_view_count": null,
            "_view_module_version": "1.5.0",
            "box_style": "",
            "layout": "IPY_MODEL_38e2a5f19df745148dc8f957134ad518",
            "_model_module": "@jupyter-widgets/controls",
            "children": [
              "IPY_MODEL_e5a44b03006d44ffb506c8a7a5269b6e",
              "IPY_MODEL_70bc29a4e94a4c3eae99019a8c489dbb"
            ]
          }
        },
        "38e2a5f19df745148dc8f957134ad518": {
          "model_module": "@jupyter-widgets/base",
          "model_name": "LayoutModel",
          "state": {
            "_view_name": "LayoutView",
            "grid_template_rows": null,
            "right": null,
            "justify_content": null,
            "_view_module": "@jupyter-widgets/base",
            "overflow": null,
            "_model_module_version": "1.2.0",
            "_view_count": null,
            "flex_flow": null,
            "width": null,
            "min_width": null,
            "border": null,
            "align_items": null,
            "bottom": null,
            "_model_module": "@jupyter-widgets/base",
            "top": null,
            "grid_column": null,
            "overflow_y": null,
            "overflow_x": null,
            "grid_auto_flow": null,
            "grid_area": null,
            "grid_template_columns": null,
            "flex": null,
            "_model_name": "LayoutModel",
            "justify_items": null,
            "grid_row": null,
            "max_height": null,
            "align_content": null,
            "visibility": null,
            "align_self": null,
            "height": null,
            "min_height": null,
            "padding": null,
            "grid_auto_rows": null,
            "grid_gap": null,
            "max_width": null,
            "order": null,
            "_view_module_version": "1.2.0",
            "grid_template_areas": null,
            "object_position": null,
            "object_fit": null,
            "grid_auto_columns": null,
            "margin": null,
            "display": null,
            "left": null
          }
        },
        "e5a44b03006d44ffb506c8a7a5269b6e": {
          "model_module": "@jupyter-widgets/controls",
          "model_name": "FloatProgressModel",
          "state": {
            "_view_name": "ProgressView",
            "style": "IPY_MODEL_440c7e3df5d34a20a5adf0156910bc33",
            "_dom_classes": [],
            "description": "100%",
            "_model_name": "FloatProgressModel",
            "bar_style": "success",
            "max": 46827520,
            "_view_module": "@jupyter-widgets/controls",
            "_model_module_version": "1.5.0",
            "value": 46827520,
            "_view_count": null,
            "_view_module_version": "1.5.0",
            "orientation": "horizontal",
            "min": 0,
            "description_tooltip": null,
            "_model_module": "@jupyter-widgets/controls",
            "layout": "IPY_MODEL_7fc463781bb246ebb0dffd6c243ae629"
          }
        },
        "70bc29a4e94a4c3eae99019a8c489dbb": {
          "model_module": "@jupyter-widgets/controls",
          "model_name": "HTMLModel",
          "state": {
            "_view_name": "HTMLView",
            "style": "IPY_MODEL_3bafd2b55add49029856acda4cbfd1f4",
            "_dom_classes": [],
            "description": "",
            "_model_name": "HTMLModel",
            "placeholder": "​",
            "_view_module": "@jupyter-widgets/controls",
            "_model_module_version": "1.5.0",
            "value": " 44.7M/44.7M [32:01&lt;00:00, 24.4kB/s]",
            "_view_count": null,
            "_view_module_version": "1.5.0",
            "description_tooltip": null,
            "_model_module": "@jupyter-widgets/controls",
            "layout": "IPY_MODEL_db5c5d55d27e4235968d65499f2f40a5"
          }
        },
        "440c7e3df5d34a20a5adf0156910bc33": {
          "model_module": "@jupyter-widgets/controls",
          "model_name": "ProgressStyleModel",
          "state": {
            "_view_name": "StyleView",
            "_model_name": "ProgressStyleModel",
            "description_width": "initial",
            "_view_module": "@jupyter-widgets/base",
            "_model_module_version": "1.5.0",
            "_view_count": null,
            "_view_module_version": "1.2.0",
            "bar_color": null,
            "_model_module": "@jupyter-widgets/controls"
          }
        },
        "7fc463781bb246ebb0dffd6c243ae629": {
          "model_module": "@jupyter-widgets/base",
          "model_name": "LayoutModel",
          "state": {
            "_view_name": "LayoutView",
            "grid_template_rows": null,
            "right": null,
            "justify_content": null,
            "_view_module": "@jupyter-widgets/base",
            "overflow": null,
            "_model_module_version": "1.2.0",
            "_view_count": null,
            "flex_flow": null,
            "width": null,
            "min_width": null,
            "border": null,
            "align_items": null,
            "bottom": null,
            "_model_module": "@jupyter-widgets/base",
            "top": null,
            "grid_column": null,
            "overflow_y": null,
            "overflow_x": null,
            "grid_auto_flow": null,
            "grid_area": null,
            "grid_template_columns": null,
            "flex": null,
            "_model_name": "LayoutModel",
            "justify_items": null,
            "grid_row": null,
            "max_height": null,
            "align_content": null,
            "visibility": null,
            "align_self": null,
            "height": null,
            "min_height": null,
            "padding": null,
            "grid_auto_rows": null,
            "grid_gap": null,
            "max_width": null,
            "order": null,
            "_view_module_version": "1.2.0",
            "grid_template_areas": null,
            "object_position": null,
            "object_fit": null,
            "grid_auto_columns": null,
            "margin": null,
            "display": null,
            "left": null
          }
        },
        "3bafd2b55add49029856acda4cbfd1f4": {
          "model_module": "@jupyter-widgets/controls",
          "model_name": "DescriptionStyleModel",
          "state": {
            "_view_name": "StyleView",
            "_model_name": "DescriptionStyleModel",
            "description_width": "",
            "_view_module": "@jupyter-widgets/base",
            "_model_module_version": "1.5.0",
            "_view_count": null,
            "_view_module_version": "1.2.0",
            "_model_module": "@jupyter-widgets/controls"
          }
        },
        "db5c5d55d27e4235968d65499f2f40a5": {
          "model_module": "@jupyter-widgets/base",
          "model_name": "LayoutModel",
          "state": {
            "_view_name": "LayoutView",
            "grid_template_rows": null,
            "right": null,
            "justify_content": null,
            "_view_module": "@jupyter-widgets/base",
            "overflow": null,
            "_model_module_version": "1.2.0",
            "_view_count": null,
            "flex_flow": null,
            "width": null,
            "min_width": null,
            "border": null,
            "align_items": null,
            "bottom": null,
            "_model_module": "@jupyter-widgets/base",
            "top": null,
            "grid_column": null,
            "overflow_y": null,
            "overflow_x": null,
            "grid_auto_flow": null,
            "grid_area": null,
            "grid_template_columns": null,
            "flex": null,
            "_model_name": "LayoutModel",
            "justify_items": null,
            "grid_row": null,
            "max_height": null,
            "align_content": null,
            "visibility": null,
            "align_self": null,
            "height": null,
            "min_height": null,
            "padding": null,
            "grid_auto_rows": null,
            "grid_gap": null,
            "max_width": null,
            "order": null,
            "_view_module_version": "1.2.0",
            "grid_template_areas": null,
            "object_position": null,
            "object_fit": null,
            "grid_auto_columns": null,
            "margin": null,
            "display": null,
            "left": null
          }
        }
      }
    }
  },
  "cells": [
    {
      "cell_type": "code",
      "metadata": {
        "id": "HjJCwSk-9T8C"
      },
      "source": [
        "import os\n",
        "import torch\n",
        "from torch import nn\n",
        "from torch.utils.data import DataLoader, random_split\n",
        "from torchvision import datasets\n",
        "import torchvision.transforms as transforms\n",
        "from torchvision.models import resnet18, resnet50\n",
        "from torch.utils.data import Dataset\n",
        "import numpy as np\n",
        "import matplotlib.pyplot as plt\n",
        "import pandas as pd\n",
        "import json\n",
        "from torch.utils.data.sampler import SubsetRandomSampler\n",
        "import PIL\n",
        "from pathlib import Path\n",
        "import albumentations as A"
      ],
      "execution_count": null,
      "outputs": []
    },
    {
      "cell_type": "markdown",
      "metadata": {
        "id": "Fj3mYcwCLGZ8"
      },
      "source": [
        "## MyNet"
      ]
    },
    {
      "cell_type": "code",
      "metadata": {
        "id": "uNf7yYmYKZvb"
      },
      "source": [
        "# class MyNet(nn.Module):\n",
        "\n",
        "#     def __init__(self):\n",
        "#         super().__init__()\n",
        "\n",
        "#         # 3x32x32\n",
        "#         self.conv1 = torch.nn.Conv2d(in_channels=3, out_channels=64, kernel_size=3, padding=1)\n",
        "#         self.act1 = torch.nn.ReLU()\n",
        "#         self.conv2 = torch.nn.Conv2d(in_channels=64, out_channels=64, kernel_size=3, padding=1)\n",
        "#         self.act2 = torch.nn.ReLU()\n",
        "#         self.pool1 = torch.nn.MaxPool2d(kernel_size=2)\n",
        "\n",
        "#         # 64x16x16\n",
        "#         self.conv3 = torch.nn.Conv2d(in_channels=64, out_channels=128, kernel_size=3, padding=1)\n",
        "#         self.act3 = torch.nn.ReLU()\n",
        "#         self.conv4 = torch.nn.Conv2d(in_channels=128, out_channels=128, kernel_size=3, padding=1)\n",
        "#         self.act4 = torch.nn.ReLU()\n",
        "#         self.pool2 = torch.nn.MaxPool2d(kernel_size=2)\n",
        "\n",
        "#         # 128x8x8\n",
        "#         self.conv5 = torch.nn.Conv2d(in_channels=128, out_channels=256, kernel_size=3, padding=1)\n",
        "#         self.act5 = torch.nn.ReLU()\n",
        "#         self.conv6 = torch.nn.Conv2d(in_channels=256, out_channels=256, kernel_size=3, padding=1)\n",
        "#         self.act6 = torch.nn.ReLU()\n",
        "#         self.pool3 = torch.nn.MaxPool2d(kernel_size=2)\n",
        "\n",
        "#         # 256x4x4\n",
        "#         self.conv7 = torch.nn.Conv2d(in_channels=256, out_channels=512, kernel_size=3, padding=1)\n",
        "#         self.act7 = torch.nn.ReLU()\n",
        "#         self.conv8 = torch.nn.Conv2d(in_channels=512, out_channels=512, kernel_size=3, padding=1)\n",
        "#         self.act8 = torch.nn.ReLU()\n",
        "#         self.pool4 = torch.nn.MaxPool2d(kernel_size=2)\n",
        "\n",
        "#         # 512x2x2\n",
        "#         self.conv9 = torch.nn.Conv2d(in_channels=512, out_channels=512, kernel_size=3, padding=1)\n",
        "#         self.act9 = torch.nn.ReLU()\n",
        "#         self.conv10 = torch.nn.Conv2d(in_channels=512, out_channels=512, kernel_size=3, padding=1)\n",
        "#         self.act10 = torch.nn.ReLU()\n",
        "#         self.pool5 = torch.nn.MaxPool2d(kernel_size=2)\n",
        "\n",
        "#         # Nx1x1\n",
        "#         self.flatten = torch.nn.Flatten()\n",
        "#         self.fc1 = torch.nn.Linear(in_features=512, out_features=1024)\n",
        "#         self.fc2 = torch.nn.Linear(in_features=1024, out_features=10)\n",
        "\n",
        "#     def forward(self, x):\n",
        "#         x = self.conv1(x)\n",
        "#         x = self.act1(x)\n",
        "#         x = self.conv2(x)\n",
        "#         x = self.act2(x)\n",
        "#         x = self.pool1(x)\n",
        "\n",
        "#         # 64x16x16\n",
        "#         x = self.conv3(x)\n",
        "#         x = self.act3(x)\n",
        "#         x = self.conv4(x)\n",
        "#         x = self.act4(x)\n",
        "#         x = self.pool2(x)\n",
        "\n",
        "#         # 128x8x8\n",
        "#         x = self.conv5(x)\n",
        "#         x = self.act5(x)\n",
        "#         x = self.conv6(x)\n",
        "#         x = self.act6(x)\n",
        "#         x = self.pool3(x)\n",
        "\n",
        "#         # 256x4x4\n",
        "#         x = self.conv7(x)\n",
        "#         x = self.act7(x)\n",
        "#         x = self.conv8(x)\n",
        "#         x = self.act8(x)\n",
        "#         x = self.pool4(x)\n",
        "\n",
        "#         # 512x2x2\n",
        "#         x = self.conv9(x)\n",
        "#         x = self.act9(x)\n",
        "#         x = self.conv10(x)\n",
        "#         x = self.act10(x)\n",
        "#         x = self.pool5(x)\n",
        "\n",
        "#         # Nx1x1\n",
        "#         x = self.flatten(x)\n",
        "#         x = self.fc1(x)\n",
        "#         x = self.fc2(x)\n",
        "#         return x"
      ],
      "execution_count": null,
      "outputs": []
    },
    {
      "cell_type": "code",
      "metadata": {
        "id": "QPaIz-tJOhbB"
      },
      "source": [
        "# net = MyNet()\n",
        "# batch = next(iter(train_loader))\n",
        "# images, labels = batch\n",
        "# net(images)"
      ],
      "execution_count": null,
      "outputs": []
    },
    {
      "cell_type": "code",
      "metadata": {
        "id": "BwZ4mmPJO3Mj"
      },
      "source": [
        "# device = 'cuda' if torch.cuda.is_available() else 'cpu'\n",
        "# #net = MyNet().to(device)\n",
        "\n",
        "# net = resnet18(pretrained=True).to(device)"
      ],
      "execution_count": null,
      "outputs": []
    },
    {
      "cell_type": "code",
      "metadata": {
        "id": "HHAWJrffCkEu"
      },
      "source": [
        "# loss_function = torch.nn.CrossEntropyLoss()\n",
        "# optimizer = torch.optim.Adam(net.parameters(), lr=0.0001)"
      ],
      "execution_count": null,
      "outputs": []
    },
    {
      "cell_type": "code",
      "metadata": {
        "id": "Nxz_ArmKCs5F"
      },
      "source": [
        "# for epoch in range(5):\n",
        "\n",
        "#     net.train()\n",
        "#     epoch_loss = 0.\n",
        "#     correct = 0\n",
        "#     total = 0\n",
        "\n",
        "#     for batch in train_loader:\n",
        "#         images, labels = batch\n",
        "#         images = images.to(device)\n",
        "#         labels = labels.to(device)\n",
        "\n",
        "#         optimizer.zero_grad()\n",
        "#         predictions = net(images)\n",
        "#         correct += (labels == predictions.argmax(dim=1,)).sum()\n",
        "#         total += len(labels)\n",
        "\n",
        "#         loss = loss_function(predictions, labels)\n",
        "#         loss.backward()\n",
        "#         optimizer.step()\n",
        "\n",
        "#         epoch_loss += loss.item()\n",
        "#     print(f'Train: {epoch_loss / len(train_loader)} | acc: {correct / total}')\n",
        "\n",
        "#     net.eval()\n",
        "#     epoch_loss = 0.\n",
        "#     correct = 0\n",
        "#     total = 0\n",
        "\n",
        "#     for batch in test_loader:\n",
        "#         images, labels = batch\n",
        "#         images = images.to(device)\n",
        "#         labels = labels.to(device)\n",
        "\n",
        "#         predictions = net(images)\n",
        "\n",
        "#         correct += (labels == predictions.argmax(dim=1,)).sum()\n",
        "#         total += len(labels)\n",
        "\n",
        "#         with torch.no_grad():\n",
        "#             loss = loss_function(predictions, labels)\n",
        "\n",
        "#         epoch_loss += loss.item()\n",
        "#     print(f'Test: {epoch_loss / len(test_loader)} | acc: {correct / total}')\n",
        "\n"
      ],
      "execution_count": null,
      "outputs": []
    },
    {
      "cell_type": "code",
      "metadata": {
        "id": "zjWoGZo1NzMQ"
      },
      "source": [
        ""
      ],
      "execution_count": null,
      "outputs": []
    },
    {
      "cell_type": "markdown",
      "metadata": {
        "id": "hcMgg-EjNzii"
      },
      "source": [
        "## 2 Localisation\n",
        "### 2.1 Dataset & dataloader\n"
      ]
    },
    {
      "cell_type": "code",
      "metadata": {
        "colab": {
          "base_uri": "https://localhost:8080/"
        },
        "id": "RIoEMxHbEji-",
        "outputId": "a9279f5d-a9a2-4d11-93f3-e1a0f0ee2152"
      },
      "source": [
        "from google.colab import drive\n",
        "drive.mount('/content/drive')"
      ],
      "execution_count": null,
      "outputs": [
        {
          "output_type": "stream",
          "text": [
            "Mounted at /content/drive\n"
          ],
          "name": "stdout"
        }
      ]
    },
    {
      "cell_type": "code",
      "metadata": {
        "colab": {
          "base_uri": "https://localhost:8080/"
        },
        "id": "ECFTByJ9DNe4",
        "outputId": "47355c2e-9866-4747-f087-bbee60174afc"
      },
      "source": [
        "cd \"/content/drive/MyDrive/bird_species\""
      ],
      "execution_count": null,
      "outputs": [
        {
          "output_type": "stream",
          "text": [
            "/content/drive/MyDrive/bird_species\n"
          ],
          "name": "stdout"
        }
      ]
    },
    {
      "cell_type": "code",
      "metadata": {
        "id": "dzEHwmR2QJoX"
      },
      "source": [
        "data_path = './bird_dataset/' #путь до папки с датасетом\n",
        "img_path = './bird_dataset/bird_img'\n",
        "json_path = './bird_dataset/bird_bbox/'"
      ],
      "execution_count": null,
      "outputs": []
    },
    {
      "cell_type": "markdown",
      "metadata": {
        "id": "F9VbhVFPfJD-"
      },
      "source": [
        "### test"
      ]
    },
    {
      "cell_type": "code",
      "metadata": {
        "id": "nAncGGzou8kK"
      },
      "source": [
        "transform = transforms.Compose(\n",
        "        [transforms.Resize([224, 224]),\n",
        "         transforms.ToTensor(),\n",
        "        #  transforms.RandomEqualize(p=1),\n",
        "         transforms.RandomAutocontrast(p=1),\n",
        "         transforms.GaussianBlur(1, sigma=(0.1, 0.2)),\n",
        "         transforms.Normalize(mean=[0.485, 0.456, 0.406], \n",
        "                              std=[0.229, 0.224, 0.225])])\n"
      ],
      "execution_count": null,
      "outputs": []
    },
    {
      "cell_type": "code",
      "metadata": {
        "id": "Yob40jSP6vqm"
      },
      "source": [
        "dataset = datasets.ImageFolder(img_path, transform=transform)"
      ],
      "execution_count": null,
      "outputs": []
    },
    {
      "cell_type": "code",
      "metadata": {
        "id": "hxkBEwex_A_v"
      },
      "source": [
        "dataloader = torch.utils.data.DataLoader(dataset, batch_size=1, shuffle=True)"
      ],
      "execution_count": null,
      "outputs": []
    },
    {
      "cell_type": "code",
      "metadata": {
        "colab": {
          "base_uri": "https://localhost:8080/"
        },
        "id": "LY_6zEMnfaEv",
        "outputId": "d8a3e9ec-47e2-4590-8cb2-4cceec8b9be8"
      },
      "source": [
        "with open(os.path.join(json_path, 'bird_bboxes.json'), 'r') as j:\n",
        "  objects = json.load(j)\n",
        "objects = sorted(objects, key=lambda k: k['annotations'][0]['task'])\n",
        "obj = objects[86]\n",
        "obj['file_upload']"
      ],
      "execution_count": null,
      "outputs": [
        {
          "output_type": "execute_result",
          "data": {
            "application/vnd.google.colaboratory.intrinsic+json": {
              "type": "string"
            },
            "text/plain": [
              "'1_Hazel_Grouse_0006_GlAC9J7.jpg'"
            ]
          },
          "metadata": {
            "tags": []
          },
          "execution_count": 13
        }
      ]
    },
    {
      "cell_type": "code",
      "metadata": {
        "id": "NCljj4vVW0CJ"
      },
      "source": [
        "def rename_img(name):\n",
        "  if '.jpeg' in name:\n",
        "    newname = name[:-13]+'.jpeg'\n",
        "  else:\n",
        "    newname = name[:-12]+'.jpg'\n",
        "  return newname\n",
        "\n",
        "name = obj['file_upload']\n",
        "new_name = rename_img(name)"
      ],
      "execution_count": null,
      "outputs": []
    },
    {
      "cell_type": "code",
      "metadata": {
        "colab": {
          "base_uri": "https://localhost:8080/"
        },
        "id": "QQBHgnM45mGJ",
        "outputId": "515ce6ee-edae-4f1b-fa11-e74f969bf65a"
      },
      "source": [
        "#попытка получить имя файла\n",
        "# .split('/')[-1].index(sample_fname)\n",
        "sample_fname, _ = dataset.samples[76]\n",
        "sample_fname\n",
        "# dataset.samples[:,1]"
      ],
      "execution_count": null,
      "outputs": [
        {
          "output_type": "execute_result",
          "data": {
            "application/vnd.google.colaboratory.intrinsic+json": {
              "type": "string"
            },
            "text/plain": [
              "'./bird_dataset/bird_img/Eurasian_Tree_Sparrow/1_Eurasian_Tree_Sparrow_0031.jpg'"
            ]
          },
          "metadata": {
            "tags": []
          },
          "execution_count": 15
        }
      ]
    },
    {
      "cell_type": "code",
      "metadata": {
        "id": "ySk-Htv7Y06M",
        "colab": {
          "base_uri": "https://localhost:8080/"
        },
        "outputId": "67e2871d-2c9d-47e7-8617-3fa4f21b8cec"
      },
      "source": [
        "name.split('_')[-1]"
      ],
      "execution_count": null,
      "outputs": [
        {
          "output_type": "execute_result",
          "data": {
            "application/vnd.google.colaboratory.intrinsic+json": {
              "type": "string"
            },
            "text/plain": [
              "'GlAC9J7.jpg'"
            ]
          },
          "metadata": {
            "tags": []
          },
          "execution_count": 16
        }
      ]
    },
    {
      "cell_type": "code",
      "metadata": {
        "colab": {
          "base_uri": "https://localhost:8080/"
        },
        "id": "OVHxVks6fTyz",
        "outputId": "9235c71e-6d82-4bab-cb55-376cfe62dfad"
      },
      "source": [
        "values = obj['annotations'][0]['result'][0]['value']\n",
        "object_label = values['rectanglelabels'][0]\n",
        "print(object_label)\n",
        "\n",
        "def map_label(label):\n",
        "  if label == 'Eurasian_Pygmy-owl':\n",
        "    return 0\n",
        "  elif label == 'Eurasian_Tree_Sparrow':\n",
        "    return 1\n",
        "  elif label == 'Hazel_Grouse':\n",
        "    return 2\n",
        "\n",
        "label = map_label(object_label)\n",
        "print(label)"
      ],
      "execution_count": null,
      "outputs": [
        {
          "output_type": "stream",
          "text": [
            "Hazel_Grouse\n",
            "2\n"
          ],
          "name": "stdout"
        }
      ]
    },
    {
      "cell_type": "code",
      "metadata": {
        "colab": {
          "base_uri": "https://localhost:8080/"
        },
        "id": "IJQ8xSMPoMcS",
        "outputId": "1e2a71e6-95ae-4b74-e31f-6e33ff9bf392"
      },
      "source": [
        "image = PIL.Image.open(Path(img_path) / object_label / new_name )\n",
        "\n",
        "image = transform(image)\n",
        "print(image.size())\n",
        "image"
      ],
      "execution_count": null,
      "outputs": [
        {
          "output_type": "stream",
          "text": [
            "torch.Size([3, 224, 224])\n"
          ],
          "name": "stdout"
        },
        {
          "output_type": "execute_result",
          "data": {
            "text/plain": [
              "tensor([[[ 0.2003,  0.2183,  0.2542,  ...,  0.4159,  0.4339,  0.4339],\n",
              "         [ 0.2003,  0.2183,  0.2542,  ...,  0.4159,  0.4339,  0.4339],\n",
              "         [ 0.1823,  0.2183,  0.2722,  ...,  0.4159,  0.4339,  0.4339],\n",
              "         ...,\n",
              "         [ 1.2066,  1.2426,  1.2426,  ..., -0.1951, -0.3568, -0.3927],\n",
              "         [ 1.1527,  1.1887,  1.2066,  ..., -0.1591, -0.2130, -0.2849],\n",
              "         [ 1.0988,  1.1347,  1.1707,  ...,  0.0565, -0.0872, -0.0693]],\n",
              "\n",
              "        [[-0.0395, -0.0213,  0.0150,  ...,  0.1783,  0.1964,  0.1964],\n",
              "         [-0.0395, -0.0213,  0.0150,  ...,  0.1783,  0.1964,  0.1964],\n",
              "         [-0.0576, -0.0213,  0.0331,  ...,  0.1783,  0.1964,  0.2146],\n",
              "         ...,\n",
              "         [ 1.2127,  1.2308,  1.2490,  ..., -0.2391, -0.3298, -0.3298],\n",
              "         [ 1.1401,  1.1764,  1.1945,  ..., -0.1121, -0.1302, -0.1665],\n",
              "         [ 1.0857,  1.1220,  1.1582,  ...,  0.1783,  0.0694,  0.0875]],\n",
              "\n",
              "        [[-0.0197, -0.0022,  0.0328,  ...,  0.1903,  0.2078,  0.2078],\n",
              "         [-0.0197, -0.0022,  0.0328,  ...,  0.1903,  0.2078,  0.2078],\n",
              "         [-0.0372, -0.0022,  0.0503,  ...,  0.1903,  0.1903,  0.1728],\n",
              "         ...,\n",
              "         [-0.3171, -0.2821, -0.2821,  ..., -0.9471, -1.1395, -0.9995],\n",
              "         [-0.3346, -0.2996, -0.2821,  ..., -0.6671, -0.8946, -0.9471],\n",
              "         [-0.3871, -0.3521, -0.3171,  ..., -0.3346, -0.7896, -0.9296]]])"
            ]
          },
          "metadata": {
            "tags": []
          },
          "execution_count": 18
        }
      ]
    },
    {
      "cell_type": "markdown",
      "metadata": {
        "id": "4qASMXGQfdyl"
      },
      "source": [
        "### class dataset"
      ]
    },
    {
      "cell_type": "code",
      "metadata": {
        "id": "BnbQhm88iwRo"
      },
      "source": [
        "def rename_img(name):\n",
        "  if '.jpeg' in name:\n",
        "    newname = name[:-13]+'.jpeg'\n",
        "  elif '.png' in name:\n",
        "    newname = name[:-12]+'.png'\n",
        "  else:\n",
        "    newname = name[:-12]+'.jpg'\n",
        "  return newname"
      ],
      "execution_count": null,
      "outputs": []
    },
    {
      "cell_type": "code",
      "metadata": {
        "id": "qcu94GZsEHsE"
      },
      "source": [
        "def map_label(label):\n",
        "  if label == 'Eurasian_Pygmy-owl':\n",
        "    return 0\n",
        "  elif label == 'Eurasian_Tree_Sparrow':\n",
        "    return 1\n",
        "  elif label == 'Hazel_Grouse':\n",
        "    return 2"
      ],
      "execution_count": null,
      "outputs": []
    },
    {
      "cell_type": "code",
      "metadata": {
        "id": "TI03qEvvC8uR"
      },
      "source": [
        "class BBoxDataset(Dataset):\n",
        "  def __init__(self, img_folder, json_folder, img_size):\n",
        "    super().__init__()\n",
        "\n",
        "    self.img_folder = Path(img_folder)\n",
        "    self.json_folder = Path(json_folder)\n",
        "\n",
        "    with open(os.path.join(self.json_folder , 'bird_bboxes.json'), 'r') as j:\n",
        "      objects = json.load(j)\n",
        "    self.objects = sorted(objects, key=lambda k: k['annotations'][0]['task'])\n",
        "\n",
        "    transform = transforms.Compose(\n",
        "        [transforms.ToTensor(),\n",
        "         transforms.Resize(img_size),\n",
        "         transforms.RandomAutocontrast(p=0.3),\n",
        "         transforms.GaussianBlur(1, sigma=(0.1, 0.2)),\n",
        "         transforms.Normalize(mean=[0.485, 0.456, 0.406], std=[0.229, 0.224, 0.225])])\n",
        "    \n",
        "      \n",
        "    # self.dataset = datasets.ImageFolder(self.img_folder, transform=transform)\n",
        "\n",
        "  def __len__(self):\n",
        "    return len(self.objects)\n",
        "  \n",
        "  def __getitem__(self, idx):\n",
        "    img_name = rename_img(self.objects[idx]['file_upload'])\n",
        "    # img_tensor, object_label = self.dataset[idx]\n",
        "    \n",
        "    obj = self.objects[idx]\n",
        "    values = obj['annotations'][0]['result'][0]['value']\n",
        "    object_label = values['rectanglelabels'][0]\n",
        "\n",
        "    image = PIL.Image.open(self.img_folder / object_label / img_name )\n",
        "    # image = image[:3]\n",
        "    image = transform(image)\n",
        "\n",
        "    label = map_label(object_label) #object label\n",
        "\n",
        "    h, w = image.size()[1], image.size()[2]\n",
        "\n",
        "    \n",
        "    bbox_x = values['x']\n",
        "    bbox_y = values['y']\n",
        "    width = values['width']\n",
        "    height = values['height']\n",
        "    x = (bbox_x+width/2)*(w/100)\n",
        "    y = (bbox_y+height/2)*(h/100)\n",
        "    \n",
        "    # x1, y1 = bbox_x*(w/100), bbox_y*(h/100)\n",
        "    # x2, y2 = (bbox_x+width)*(w/100), bbox_y*(h/100)\n",
        "    # x3, y3 = (bbox_x+width)*(w/100), (bbox_y+height)*(h/100)\n",
        "    # x4, y4 = bbox_x*(w/100), (bbox_y+height)*(h/100)\n",
        "    # bbox = [[x1, y1], [x2, y2], [x3, y3], [x3, y3]]\n",
        "    return {'image': image, 'xy': torch.FloatTensor([x, y]), 'label': label}\n"
      ],
      "execution_count": null,
      "outputs": []
    },
    {
      "cell_type": "code",
      "metadata": {
        "id": "QHfUCunxw8ER"
      },
      "source": [
        "bird_set = BBoxDataset(img_path, json_path, [224, 224])"
      ],
      "execution_count": null,
      "outputs": []
    },
    {
      "cell_type": "code",
      "metadata": {
        "id": "zy1h7UVngPW8"
      },
      "source": [
        "train_size = int(0.8 * len(bird_set))\n",
        "test_size = len(bird_set) - train_size\n",
        "train_set, test_set = torch.utils.data.random_split(bird_set, \n",
        "                                                    [train_size, test_size], \n",
        "                                                    generator=torch.Generator().manual_seed(42))"
      ],
      "execution_count": null,
      "outputs": []
    },
    {
      "cell_type": "code",
      "metadata": {
        "id": "FA8Oi3_ynICl"
      },
      "source": [
        "BATCH_SIZE = 40"
      ],
      "execution_count": null,
      "outputs": []
    },
    {
      "cell_type": "code",
      "metadata": {
        "id": "NjvPWliTgmJj"
      },
      "source": [
        "train_loader = torch.utils.data.DataLoader(train_set, batch_size=BATCH_SIZE, shuffle=True, num_workers=2)\n",
        "test_loader = torch.utils.data.DataLoader(test_set, batch_size=BATCH_SIZE, shuffle=False, num_workers=2)"
      ],
      "execution_count": null,
      "outputs": []
    },
    {
      "cell_type": "code",
      "metadata": {
        "id": "8Y_Nmv2PBXUZ"
      },
      "source": [
        "# def show_image(dataset):\n",
        "#   img_tensor = next(iter(dataset))['image']\n",
        "#   xy = np.array(next(iter(dataset))['xy'])\n",
        "#   x, y = int(xy[0]), int(xy[1])\n",
        "#   img = np.moveaxis(img_tensor.numpy(), 0, 2)\n",
        "#   img = img * np.array((0.229, 0.224, 0.225)) + np.array((0.485, 0.456, 0.406))\n",
        "#   plt.scatter(x, y, cmap='red')\n",
        "#   plt.imshow(img)\n",
        "#   print(img.shape)\n",
        "\n",
        "# show_image(BBoxDataset(data_path))"
      ],
      "execution_count": null,
      "outputs": []
    },
    {
      "cell_type": "code",
      "metadata": {
        "colab": {
          "base_uri": "https://localhost:8080/",
          "height": 269
        },
        "id": "iBxVKPj8gLKu",
        "outputId": "93721f7b-4c40-443c-fdfd-e2d5592ac8f4"
      },
      "source": [
        "def show_image(img_tensor, xy, xy_pred=None):\n",
        "    x, y = xy\n",
        "    image = np.moveaxis(img_tensor.numpy(), 0, 2)\n",
        "    image = image * np.array([0.229, 0.224, 0.225]) + np.array([0.485, 0.456, 0.406])\n",
        "\n",
        "    plt.scatter(x, y)\n",
        "    if xy_pred is not None:\n",
        "        x_pred_pixel = int(xy_pred[0])\n",
        "        y_pred_pixel = int(xy_pred[1])\n",
        "        plt.scatter(x_pred_pixel, y_pred_pixel)\n",
        "    plt.imshow(image.clip(0, 1))\n",
        "\n",
        "show_image(train_set[0]['image'], train_set[0]['xy'])"
      ],
      "execution_count": null,
      "outputs": [
        {
          "output_type": "display_data",
          "data": {
            "image/png": "[encoded data removed]",
            "text/plain": [
              "<Figure size 432x288 with 1 Axes>"
            ]
          },
          "metadata": {
            "tags": [],
            "needs_background": "light"
          }
        }
      ]
    },
    {
      "cell_type": "markdown",
      "metadata": {
        "id": "ShflCiZWQbnl"
      },
      "source": [
        "### 2.2  Network architecture"
      ]
    },
    {
      "cell_type": "code",
      "metadata": {
        "id": "o68W_GobL0NS",
        "colab": {
          "base_uri": "https://localhost:8080/",
          "height": 86,
          "referenced_widgets": [
            "614cf54c25024948ba47b827f02a8097",
            "38e2a5f19df745148dc8f957134ad518",
            "e5a44b03006d44ffb506c8a7a5269b6e",
            "70bc29a4e94a4c3eae99019a8c489dbb",
            "440c7e3df5d34a20a5adf0156910bc33",
            "7fc463781bb246ebb0dffd6c243ae629",
            "3bafd2b55add49029856acda4cbfd1f4",
            "db5c5d55d27e4235968d65499f2f40a5"
          ]
        },
        "outputId": "fbd13720-f608-4636-e1b3-4c341146a83a"
      },
      "source": [
        "device = 'cuda' if torch.cuda.is_available() else 'cpu'\n",
        "\n",
        "net = resnet18(pretrained=True)\n",
        "# net = resnet50(pretrained=True)\n",
        "net.fc = torch.nn.Linear(in_features=512, out_features=2, bias=True)\n",
        "net = net.to(device)"
      ],
      "execution_count": null,
      "outputs": [
        {
          "output_type": "stream",
          "text": [
            "Downloading: \"https://download.pytorch.org/models/resnet18-5c106cde.pth\" to /root/.cache/torch/hub/checkpoints/resnet18-5c106cde.pth\n"
          ],
          "name": "stderr"
        },
        {
          "output_type": "display_data",
          "data": {
            "application/vnd.jupyter.widget-view+json": {
              "model_id": "614cf54c25024948ba47b827f02a8097",
              "version_minor": 0,
              "version_major": 2
            },
            "text/plain": [
              "HBox(children=(FloatProgress(value=0.0, max=46827520.0), HTML(value='')))"
            ]
          },
          "metadata": {
            "tags": []
          }
        },
        {
          "output_type": "stream",
          "text": [
            "\n"
          ],
          "name": "stdout"
        }
      ]
    },
    {
      "cell_type": "code",
      "metadata": {
        "id": "g_XkpDK6ODiB"
      },
      "source": [
        "loss_function_xy = torch.nn.L1Loss()\n",
        "loss_function_bce = torch.nn.CrossEntropyLoss()\n",
        "optimizer = torch.optim.Adam(net.parameters(), lr=0.001)"
      ],
      "execution_count": null,
      "outputs": []
    },
    {
      "cell_type": "code",
      "metadata": {
        "colab": {
          "base_uri": "https://localhost:8080/"
        },
        "id": "QSMyY3u7OMpT",
        "outputId": "2a407382-85be-4952-cd46-7b356efd898f"
      },
      "source": [
        "for epoch in range(100):\n",
        "\n",
        "    net.train()\n",
        "    epoch_loss = 0.\n",
        "\n",
        "    for batch in train_loader:\n",
        "        images, xy, labels = batch['image'], batch['xy'], batch['label'] \n",
        "        images = images.to(device)\n",
        "        xy = xy.to(device)\n",
        "        labels = labels.to(device)\n",
        "\n",
        "        optimizer.zero_grad()\n",
        "        predictions = net(images)\n",
        "\n",
        "        \n",
        "        loss = loss_function_xy(predictions, xy)/BATCH_SIZE\n",
        "\n",
        "        #+ loss_function_bce(predictions[:, :10], labels)\n",
        "        loss.backward()\n",
        "        optimizer.step()\n",
        "\n",
        "        epoch_loss += loss.item()\n",
        "\n",
        "    print(f'Train: {epoch_loss / len(train_loader)}')\n",
        "\n",
        "    net.eval()\n",
        "    epoch_loss = 0.\n",
        "\n",
        "    for batch in test_loader:\n",
        "        images, xy, labels = batch['image'], batch['xy'], batch['label'] \n",
        "        images = images.to(device)\n",
        "        xy = xy.to(device)\n",
        "        labels = labels.to(device)\n",
        "\n",
        "        predictions = net(images)\n",
        "\n",
        "        with torch.no_grad():\n",
        "            \n",
        "            loss = loss_function_xy(predictions, xy)/BATCH_SIZE\n",
        "\n",
        "        epoch_loss += loss.item()\n",
        "    print(f'Test: {epoch_loss / len(test_loader)}')"
      ],
      "execution_count": null,
      "outputs": [
        {
          "output_type": "stream",
          "text": [
            "Train: 2.7337795893351235\n",
            "Test: 2.5402424335479736\n",
            "Train: 2.709577480951945\n",
            "Test: 1.9317924976348877\n",
            "Train: 2.6621810595194497\n",
            "Test: 2.1194911003112793\n",
            "Train: 2.6143321990966797\n",
            "Test: 2.157566785812378\n",
            "Train: 2.567158063252767\n",
            "Test: 1.9984071254730225\n",
            "Train: 2.5153932571411133\n",
            "Test: 2.0397679805755615\n",
            "Train: 2.4578359921773276\n",
            "Test: 2.150404691696167\n",
            "Train: 2.416520595550537\n",
            "Test: 2.199153184890747\n",
            "Train: 2.377701759338379\n",
            "Test: 2.2071332931518555\n",
            "Train: 2.3093111515045166\n",
            "Test: 2.2887964248657227\n",
            "Train: 2.256728490193685\n",
            "Test: 2.216639280319214\n",
            "Train: 2.1752918561299643\n",
            "Test: 2.2005109786987305\n",
            "Train: 2.1517368157704673\n",
            "Test: 2.0705726146698\n",
            "Train: 2.079147537549337\n",
            "Test: 2.095557689666748\n",
            "Train: 2.021247704823812\n",
            "Test: 2.0372135639190674\n",
            "Train: 1.9558439254760742\n",
            "Test: 1.9809026718139648\n",
            "Train: 1.8920714060465496\n",
            "Test: 1.9190607070922852\n",
            "Train: 1.8638951381047566\n",
            "Test: 1.8665777444839478\n",
            "Train: 1.761255423227946\n",
            "Test: 1.8019939661026\n",
            "Train: 1.6782961289087932\n",
            "Test: 1.7542803287506104\n",
            "Train: 1.6293380657831829\n",
            "Test: 1.6769241094589233\n",
            "Train: 1.5475619633992512\n",
            "Test: 1.5900609493255615\n",
            "Train: 1.4828904867172241\n",
            "Test: 1.530409336090088\n",
            "Train: 1.4024885495503743\n",
            "Test: 1.4711300134658813\n",
            "Train: 1.312366525332133\n",
            "Test: 1.4110347032546997\n",
            "Train: 1.2763666311899822\n",
            "Test: 1.2971690893173218\n",
            "Train: 1.1429423491160076\n",
            "Test: 1.2073036432266235\n",
            "Train: 1.12483811378479\n",
            "Test: 1.1532866954803467\n",
            "Train: 1.0221539735794067\n",
            "Test: 1.1714280843734741\n",
            "Train: 0.9608566761016846\n",
            "Test: 1.059046983718872\n",
            "Train: 0.8744797706604004\n",
            "Test: 0.879320502281189\n",
            "Train: 0.7747573653856913\n",
            "Test: 0.7375032305717468\n",
            "Train: 0.705726146697998\n",
            "Test: 0.6563304662704468\n",
            "Train: 0.6341864069302877\n",
            "Test: 0.6095274090766907\n",
            "Train: 0.5826125343640646\n",
            "Test: 0.5219618082046509\n",
            "Train: 0.5096806486447653\n",
            "Test: 0.6446800827980042\n",
            "Train: 0.4333177904287974\n",
            "Test: 0.6434907913208008\n",
            "Train: 0.40178369482358295\n",
            "Test: 0.45761364698410034\n",
            "Train: 0.3694431781768799\n",
            "Test: 0.5307866930961609\n",
            "Train: 0.31531578302383423\n",
            "Test: 0.5852388143539429\n",
            "Train: 0.3201012909412384\n",
            "Test: 0.37232667207717896\n",
            "Train: 0.2872527539730072\n",
            "Test: 0.6055916547775269\n",
            "Train: 0.3015034894148509\n",
            "Test: 0.6889950037002563\n",
            "Train: 0.2935905158519745\n",
            "Test: 0.5838183164596558\n",
            "Train: 0.2745417356491089\n",
            "Test: 0.5902878046035767\n",
            "Train: 0.2479329655567805\n",
            "Test: 0.4590241014957428\n",
            "Train: 0.2625776330629985\n",
            "Test: 0.4015631079673767\n",
            "Train: 0.24211128056049347\n",
            "Test: 0.40359678864479065\n",
            "Train: 0.23825346430142721\n",
            "Test: 0.3730666935443878\n",
            "Train: 0.22794685264428458\n",
            "Test: 0.37771496176719666\n",
            "Train: 0.22329817712306976\n",
            "Test: 0.36235788464546204\n",
            "Train: 0.19657756388187408\n",
            "Test: 0.331941157579422\n",
            "Train: 0.2104719877243042\n",
            "Test: 0.34008705615997314\n",
            "Train: 0.191402996579806\n",
            "Test: 0.35918283462524414\n",
            "Train: 0.16910716891288757\n",
            "Test: 0.3307960331439972\n",
            "Train: 0.16560467084248862\n",
            "Test: 0.3440750241279602\n",
            "Train: 0.16210107505321503\n",
            "Test: 0.3741779625415802\n",
            "Train: 0.16677570839722952\n",
            "Test: 0.3417908847332001\n",
            "Train: 0.16502944131692251\n",
            "Test: 0.32586246728897095\n",
            "Train: 0.15378519395987192\n",
            "Test: 0.2891390323638916\n",
            "Train: 0.16346553961435953\n",
            "Test: 0.28061631321907043\n",
            "Train: 0.16221256057421365\n",
            "Test: 0.28438353538513184\n",
            "Train: 0.16952339808146158\n",
            "Test: 0.2963835299015045\n",
            "Train: 0.15450469404459\n",
            "Test: 0.2665790021419525\n",
            "Train: 0.15168406317631403\n",
            "Test: 0.2680797874927521\n",
            "Train: 0.1383999064564705\n",
            "Test: 0.25261297821998596\n",
            "Train: 0.13710101693868637\n",
            "Test: 0.24338825047016144\n",
            "Train: 0.10733111202716827\n",
            "Test: 0.24119091033935547\n",
            "Train: 0.1230991284052531\n",
            "Test: 0.2794581353664398\n",
            "Train: 0.10021798561016719\n",
            "Test: 0.23314452171325684\n",
            "Train: 0.1222890242934227\n",
            "Test: 0.22004461288452148\n",
            "Train: 0.12340229501326878\n",
            "Test: 0.23302069306373596\n",
            "Train: 0.1293987954656283\n",
            "Test: 0.29372039437294006\n",
            "Train: 0.10554398099581401\n",
            "Test: 0.31597036123275757\n",
            "Train: 0.09168962885936101\n",
            "Test: 0.3128303289413452\n",
            "Train: 0.08781060824791591\n",
            "Test: 0.27482157945632935\n",
            "Train: 0.11855571220318477\n",
            "Test: 0.27770769596099854\n",
            "Train: 0.08136122177044551\n",
            "Test: 0.2756877541542053\n",
            "Train: 0.09015996257464091\n",
            "Test: 0.24200963973999023\n",
            "Train: 0.07697697480519612\n",
            "Test: 0.22093987464904785\n",
            "Train: 0.06650226190686226\n",
            "Test: 0.21397587656974792\n",
            "Train: 0.07502845674753189\n",
            "Test: 0.23606809973716736\n",
            "Train: 0.0686015710234642\n",
            "Test: 0.22001035511493683\n",
            "Train: 0.10191855827967326\n",
            "Test: 0.21863476932048798\n",
            "Train: 0.09447707235813141\n",
            "Test: 0.2268809974193573\n",
            "Train: 0.08615932613611221\n",
            "Test: 0.2265479862689972\n",
            "Train: 0.08710736533006032\n",
            "Test: 0.23775093257427216\n",
            "Train: 0.07334482421477635\n",
            "Test: 0.24879927933216095\n",
            "Train: 0.09145037829875946\n",
            "Test: 0.2409740388393402\n",
            "Train: 0.11905906349420547\n",
            "Test: 0.2067500799894333\n",
            "Train: 0.1060217594106992\n",
            "Test: 0.19777868688106537\n",
            "Train: 0.06907325858871143\n",
            "Test: 0.19406758248806\n",
            "Train: 0.0807444800933202\n",
            "Test: 0.20784027874469757\n",
            "Train: 0.10699799160162608\n",
            "Test: 0.21488980948925018\n",
            "Train: 0.08236498882373174\n",
            "Test: 0.20410683751106262\n",
            "Train: 0.08195724834998448\n",
            "Test: 0.21970811486244202\n",
            "Train: 0.04694430157542229\n",
            "Test: 0.2379569113254547\n",
            "Train: 0.07703595732649167\n",
            "Test: 0.2505193054676056\n",
            "Train: 0.09048799673716228\n",
            "Test: 0.24030598998069763\n",
            "Train: 0.06362531582514445\n",
            "Test: 0.22362801432609558\n"
          ],
          "name": "stdout"
        }
      ]
    },
    {
      "cell_type": "code",
      "metadata": {
        "id": "U10KZgvj1kJY",
        "colab": {
          "base_uri": "https://localhost:8080/",
          "height": 269
        },
        "outputId": "ea2c269d-34be-45f5-984b-7f1bd9fb66d8"
      },
      "source": [
        "sample = test_set[4] \n",
        "\n",
        "image = sample['image']\n",
        "xy = sample['xy']\n",
        "label = sample['label']\n",
        "\n",
        "\n",
        "with torch.no_grad():\n",
        "    xy_pred = net(torch.unsqueeze(image, dim=0).to(device)).cpu().numpy()[0]\n",
        "\n",
        "show_image(image, xy, xy_pred=xy_pred)"
      ],
      "execution_count": null,
      "outputs": [
        {
          "output_type": "display_data",
          "data": {
            "image/png": "[encoded data removed]",
            "text/plain": [
              "<Figure size 432x288 with 1 Axes>"
            ]
          },
          "metadata": {
            "tags": [],
            "needs_background": "light"
          }
        }
      ]
    },
    {
      "cell_type": "code",
      "metadata": {
        "id": "e9nch0Ncihpb"
      },
      "source": [
        ""
      ],
      "execution_count": null,
      "outputs": []
    }
  ]
}